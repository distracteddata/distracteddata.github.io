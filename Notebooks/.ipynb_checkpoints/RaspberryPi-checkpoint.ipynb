{
 "cells": [
  {
   "cell_type": "markdown",
   "metadata": {},
   "source": [
    "###### [home..](https://distracteddata.github.io)\n",
    "## Raspberry Pi\n",
    "\n",
    "### Quick Setup:\n",
    "1. Download [Noobs](https://www.raspberrypi.org/downloads/noobs/)\n",
    "2. Download [SD Card Formatter](https://www.sdcard.org/downloads/formatter_4/)\n",
    "3. Format SD Card (Don't use quick option), no Volume needed\n",
    "4. Extract Noobs zip and copy contents to SD card\n",
    "5. Insert SD card into Raspberry Pi\n",
    "6. Power up Raspberry Pi and install the Raspbian distro\n",
    "7. Click the wifi icon and connect to wireless\n",
    "7. `sudo apt-get update`\n",
    "8. `sudo apt-get upgrade`\n",
    "9. Don't forget to change the default password: `passwd`\n"
   ]
  },
  {
   "cell_type": "markdown",
   "metadata": {},
   "source": [
    "---\n",
    "### Remove Wolfram Whatever\n",
    "1. `sudo apt-get purge wolfram-engine`\n",
    "2. `sudo apt-get autoremove`\n",
    "3. `sudo apt-get update`\n",
    "4. `sudo apt-get upgrade`"
   ]
  },
  {
   "cell_type": "markdown",
   "metadata": {},
   "source": [
    "---\n",
    "### Enable SSH\n",
    "1. `ifconfig` - retrieve IP address\n",
    "2. `sudo raspi-config`\n",
    "3. **Interfacing Options** > **Enable SSH**\n",
    "4. ***Don't forget to change wifi password from default:*** `passwd`"
   ]
  },
  {
   "cell_type": "markdown",
   "metadata": {},
   "source": [
    "---\n",
    "### Enable Remote Desktop\n",
    "1. `sudo apt-get install tightvncserver`\n",
    "2. `sudo apt-get install xrdp`"
   ]
  }
 ],
 "metadata": {
  "kernelspec": {
   "display_name": "Python 3",
   "language": "python",
   "name": "python3"
  },
  "language_info": {
   "codemirror_mode": {
    "name": "ipython",
    "version": 3
   },
   "file_extension": ".py",
   "mimetype": "text/x-python",
   "name": "python",
   "nbconvert_exporter": "python",
   "pygments_lexer": "ipython3",
   "version": "3.6.1"
  }
 },
 "nbformat": 4,
 "nbformat_minor": 2
}
