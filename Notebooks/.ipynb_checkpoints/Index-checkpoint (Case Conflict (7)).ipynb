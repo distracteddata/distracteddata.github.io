{
 "cells": [
  {
   "cell_type": "markdown",
   "metadata": {},
   "source": [
    "## Distracted Data\n",
    "### Python, Data, Machine Learning, Raspberry Pi, and Distractions\n",
    "\n",
    "#### About\n",
    "My name is Mike Moran and this is a repository of my code snippets and projects I'm working on.\n",
    "\n",
    "#### What is this?\n",
    "This website is created using [Jupyter Notebooks](https://github.com/ChrisRackauckas/JupyterSite). It's content without the fuss. Sure, it may not look great on your mobile device, but it's useful for conveying thoughts and code. For any long-form writing, I'll post [here](https://medium.com/@distracteddata).\n"
   ]
  },
  {
   "cell_type": "markdown",
   "metadata": {
    "collapsed": true
   },
   "source": [
    "---\n",
    "### Pages\n",
    "- Python\n",
    "- Pandas\n",
    "- Numpy\n",
    "- Data Visualization\n",
    "- Machine Learning\n",
    "- Raspberry Pi *(coming soon)*"
   ]
  }
 ],
 "metadata": {
  "kernelspec": {
   "display_name": "Python 3",
   "language": "python",
   "name": "python3"
  },
  "language_info": {
   "codemirror_mode": {
    "name": "ipython",
    "version": 3
   },
   "file_extension": ".py",
   "mimetype": "text/x-python",
   "name": "python",
   "nbconvert_exporter": "python",
   "pygments_lexer": "ipython3",
   "version": "3.6.1"
  }
 },
 "nbformat": 4,
 "nbformat_minor": 2
}
